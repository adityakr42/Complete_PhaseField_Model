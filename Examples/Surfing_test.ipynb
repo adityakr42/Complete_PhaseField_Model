{
  "cells": [
    {
      "cell_type": "markdown",
      "metadata": {
        "id": "U4I0guFxXJoX"
      },
      "source": [
        "## Adding the Dolfinx library to the colab environment"
      ]
    },
    {
      "cell_type": "code",
      "execution_count": null,
      "metadata": {
        "id": "O475uI91ax-b"
      },
      "outputs": [],
      "source": [
        "!wget \"https://fem-on-colab.github.io/releases/fenicsx-install-real.sh\" -O \"/tmp/fenicsx-install.sh\" && bash \"/tmp/fenicsx-install.sh\""
      ]
    },
    {
      "cell_type": "markdown",
      "metadata": {
        "id": "SCJ7RmEsXNRH"
      },
      "source": [
        "## Importing the required libraries"
      ]
    },
    {
      "cell_type": "code",
      "execution_count": null,
      "metadata": {
        "id": "LW1txDGga9rj"
      },
      "outputs": [],
      "source": [
        "from mpi4py import MPI\n",
        "from dolfinx import mesh, fem, io, plot, nls, log, geometry, la\n",
        "from dolfinx import cpp as _cpp\n",
        "from dolfinx import default_real_type\n",
        "import dolfinx.fem.petsc\n",
        "import ufl\n",
        "import numpy as np\n",
        "from petsc4py.PETSc import ScalarType\n",
        "from petsc4py import PETSc\n",
        "import time\n",
        "import os"
      ]
    },
    {
      "cell_type": "markdown",
      "metadata": {
        "id": "UyUTrbKHXSip"
      },
      "source": [
        "## Setting material properties and geometry dimensions\n"
      ]
    },
    {
      "cell_type": "code",
      "execution_count": null,
      "metadata": {
        "id": "QsBe2yGKbBby"
      },
      "outputs": [],
      "source": [
        "# Material properties\n",
        "E, nu = ScalarType(9800), ScalarType(0.13)\t                                    #Young's modulus and Poisson's ratio\n",
        "mu, lmbda, kappa = E/(2*(1 + nu)), E*nu/((1 + nu)*(1 - 2*nu)), E/(3*(1 - 2*nu))\n",
        "Gc= ScalarType(0.091)\t                                                            #Critical energy release rate\n",
        "sts, scs= ScalarType(27), ScalarType(77)\t                                        #Tensile strength and compressive strength\n",
        "shs = (2/3)*sts*scs/(scs-sts)\n",
        "Wts = sts**2/(2*E)\n",
        "Whs = shs**2/(2*kappa)\n",
        "\n",
        "\n",
        "#Irwin characteristic length\n",
        "lch=3*Gc*E/8/(sts**2)\n",
        "#The regularization length\n",
        "eps=0.2                                                                           #epsilon should not be chosen to be too large compared to lch. Typically eps<4*lch should work\n",
        "\n",
        "h=eps/5\n",
        "\n",
        "\n",
        "\n",
        "delta = (1+3*h/(8*eps))**(-2) * ((sts + (1+2*np.sqrt(3))*shs)/((8+3*np.sqrt(3))*shs)) * 3*Gc/(16*Wts*eps) + (1+3*h/(8*eps))**(-1) * (2/5)\n",
        "comm = MPI.COMM_WORLD\n",
        "comm_rank = MPI.COMM_WORLD.rank\n",
        "log.set_log_level(log.LogLevel.ERROR)\n",
        "\n",
        "#Geometry of the single edge notch geometry\n",
        "ac = 5.0                                                                          #notch length\n",
        "W, L = 30.0, 5.0                                                                  #making use of symmetry"
      ]
    },
    {
      "cell_type": "markdown",
      "metadata": {
        "id": "0C6lNAIkXWll"
      },
      "source": [
        "## Generating the mesh with element size $h=\\frac{ϵ}{5}$"
      ]
    },
    {
      "cell_type": "code",
      "execution_count": null,
      "metadata": {
        "id": "1HBatlwabOBa"
      },
      "outputs": [],
      "source": [
        "domain = mesh.create_rectangle(comm = comm,points=\n",
        "                             [np.array([0,0]), np.array([W,L])],n=[int(W/(32*h))\n",
        "                             ,int(L/(32*h))], cell_type=mesh.CellType.triangle\n",
        "                               , diagonal= mesh.DiagonalType.crossed)\n",
        "\n",
        "def cell_criterion(x):\n",
        "    \"\"\"Given mesh coordinates, return if each point\n",
        "    satisfies x[1]<lch*4\n",
        "\n",
        "    :param x: Input coordinates, shape (num_points, 3)\n",
        "    :returns: Boolean array of shape (num_points, )\n",
        "    \"\"\"\n",
        "    return (x[1]<lch*4)\n",
        "\n",
        "ir=0\n",
        "while ir<2:\n",
        "    cells_local = np.arange(domain.topology.index_map(\n",
        "        domain.topology.dim).size_local, dtype=np.int32)\n",
        "    midpoints = dolfinx.mesh.compute_midpoints(\n",
        "        domain, domain.topology.dim, cells_local).T\n",
        "    should_refine = np.flatnonzero(cell_criterion(midpoints)).astype(np.int32)\n",
        "    domain.topology.create_entities(1)\n",
        "    local_edges = dolfinx.mesh.compute_incident_entities(\n",
        "        domain.topology, should_refine, domain.topology.dim, 1)\n",
        "    domain = dolfinx.mesh.refine(domain, local_edges)\n",
        "    ir+=1\n",
        "\n",
        "\n",
        "def cell_criterion2(x):\n",
        "    \"\"\"Given mesh coordinates, return if each point\n",
        "    satisfies (x[1]<2.5*eps)  & (x[0]>ac-h*8*4)\n",
        "\n",
        "    :param x: Input coordinates, shape (num_points, 3)\n",
        "    :returns: Boolean array of shape (num_points, )\n",
        "    \"\"\"\n",
        "    return (x[1]<2.5*eps) & (x[0]>ac-h*8*4)\n",
        "\n",
        "ir=0\n",
        "while ir<3:\n",
        "    cells_local = np.arange(domain.topology.index_map(\n",
        "        domain.topology.dim).size_local, dtype=np.int32)\n",
        "    midpoints = dolfinx.mesh.compute_midpoints(\n",
        "        domain, domain.topology.dim, cells_local).T\n",
        "    should_refine = np.flatnonzero(cell_criterion2(midpoints)).astype(np.int32)\n",
        "    domain.topology.create_entities(1)\n",
        "    local_edges = dolfinx.mesh.compute_incident_entities(\n",
        "        domain.topology, should_refine, domain.topology.dim, 1)\n",
        "    domain = dolfinx.mesh.refine(domain, local_edges)\n",
        "    ir+=1\n",
        "\n",
        "\n",
        "with dolfinx.io.XDMFFile(domain.comm, \"refined_mesh.xdmf\", \"w\") as xdmf:\n",
        "    xdmf.write_mesh(domain)"
      ]
    },
    {
      "cell_type": "markdown",
      "metadata": {
        "id": "otviNVMHXgSn"
      },
      "source": [
        "## Defining the function spaces"
      ]
    },
    {
      "cell_type": "code",
      "execution_count": null,
      "metadata": {
        "id": "zx8hba68bTPp"
      },
      "outputs": [],
      "source": [
        "# Defining the function spaces\n",
        "V = fem.functionspace(domain, (\"CG\", 1, (domain.geometry.dim,)))                  #Function space for u\n",
        "Y = fem.functionspace(domain, (\"CG\", 1))                                          #Function space for z\n",
        "\n",
        "n=ufl.FacetNormal(domain)"
      ]
    },
    {
      "cell_type": "markdown",
      "metadata": {
        "id": "rZH82wnrXj8N"
      },
      "source": [
        "## Creating the applied displacement on the boundary"
      ]
    },
    {
      "cell_type": "code",
      "execution_count": null,
      "metadata": {
        "id": "9cX5EeqybV78"
      },
      "outputs": [],
      "source": [
        "class MyExpression:\n",
        "    def __init__(self):\n",
        "        self.t = 0.0\n",
        "        self.v = 5.0\n",
        "\n",
        "    def eval(self, x):\n",
        "        values = np.zeros((1, x.shape[1]))\n",
        "        values[0,:] = (1+nu)*np.sqrt(Gc)/np.sqrt(2*np.pi*E)*\\\n",
        "         (((x[0]-self.v*self.t)**2+L**2)**0.25)*\\\n",
        "          ((3-nu)/(1+nu)-np.cos(np.arctan2(L,(x[0]-self.v*self.t))))*\\\n",
        "          np.sin(0.5*np.arctan2(L,(x[0]-self.v*self.t)))\n",
        "\n",
        "        return values\n",
        "\n",
        "V_1, _ = V.sub(1).collapse()\n",
        "re = MyExpression()\n",
        "re.t = 0\n",
        "r = fem.Function(V_1)\n",
        "r.interpolate(re.eval)"
      ]
    },
    {
      "cell_type": "markdown",
      "metadata": {
        "id": "GzErQv4qXqi2"
      },
      "source": [
        "## Setting the Dirichlet part of boundary conditions"
      ]
    },
    {
      "cell_type": "code",
      "execution_count": null,
      "metadata": {
        "id": "sKGBuM8waHbG"
      },
      "outputs": [],
      "source": [
        "def left(x):\n",
        "    return np.isclose(x[0], 0)\n",
        "\n",
        "def front(x):\n",
        "    return np.isclose(x[0], W)\n",
        "\n",
        "def top(x):\n",
        "    return np.isclose(x[1], L)\n",
        "\n",
        "def bottom(x):\n",
        "    return (x[1]<1e-4) & (x[0]>ac - 1e-4)\n",
        "\n",
        "def cracktip(x):\n",
        "    return (x[1] < 1e-4) & (x[0] > ac - h*8*2) & (x[0] < ac+1e-4)\n",
        "\n",
        "def righttop(x):\n",
        "    return (np.abs(x[1]-L) < h*35) & (np.abs(x[0]-W) < h*35)\n",
        "\n",
        "def outer(x):\n",
        "    return (x[1] > L/10)\n",
        "\n",
        "fdim = domain.topology.dim -1\n",
        "left_facets = mesh.locate_entities_boundary(domain, fdim, left)\n",
        "front_facets = mesh.locate_entities_boundary(domain, fdim, front)\n",
        "top_facets = mesh.locate_entities_boundary(domain, fdim, top)\n",
        "bottom_facets = mesh.locate_entities(domain, fdim, bottom)\n",
        "cracktip_facets = mesh.locate_entities(domain, fdim, cracktip)\n",
        "righttop_facets = mesh.locate_entities(domain, fdim, righttop)\n",
        "outer_facets = mesh.locate_entities(domain, fdim, outer)\n",
        "\n",
        "\n",
        "dofs_righttop = fem.locate_dofs_topological(V.sub(0), fdim, righttop_facets)\n",
        "dofs_bottom = fem.locate_dofs_topological(V.sub(1), fdim, bottom_facets)\n",
        "dofs_top = fem.locate_dofs_topological((V.sub(1), V_1), fdim, top_facets)\n",
        "\n",
        "dofs_outer = fem.locate_dofs_topological(Y, fdim, outer_facets)\n",
        "dofs_cracktip = fem.locate_dofs_topological(Y, fdim, cracktip_facets)\n",
        "\n",
        "bcl = fem.dirichletbc(ScalarType(0), dofs_righttop, V.sub(0))\n",
        "bcb = fem.dirichletbc(ScalarType(0), dofs_bottom, V.sub(1))\n",
        "bct = fem.dirichletbc(r, dofs_top, V.sub(1))\n",
        "bcs = [bcl, bcb, bct]\n",
        "\n",
        "\n",
        "bct_z = fem.dirichletbc(ScalarType(1), dofs_outer, Y)\n",
        "bct_z2 = fem.dirichletbc(ScalarType(0), dofs_cracktip, Y)\n",
        "bcs_z = [bct_z, bct_z2]\n"
      ]
    },
    {
      "cell_type": "markdown",
      "metadata": {
        "id": "__VzPX7GXtTf"
      },
      "source": [
        "## Marking the facets and defining trial and test functions"
      ]
    },
    {
      "cell_type": "code",
      "execution_count": null,
      "metadata": {
        "id": "G9lDEO2UcUE3"
      },
      "outputs": [],
      "source": [
        "marked_facets = np.hstack([front_facets, left_facets, top_facets])\n",
        "marked_values = np.hstack([np.full_like(front_facets, 1),\n",
        "                           np.full_like(left_facets, 2),\n",
        "                           np.full_like(top_facets, 3)])\n",
        "sorted_facets = np.argsort(marked_facets)\n",
        "facet_tag = mesh.meshtags(domain, domain.topology.dim -1,\n",
        "                          marked_facets[sorted_facets],\n",
        "                          marked_values[sorted_facets])\n",
        "\n",
        "metadata = {\"quadrature_degree\": 4}\n",
        "ds = ufl.Measure('ds', domain=domain,\n",
        "                 subdomain_data=facet_tag, metadata=metadata)\n",
        "dS = ufl.Measure(\"dS\", domain=domain, metadata=metadata)\n",
        "dx = ufl.Measure(\"dx\", domain=domain, metadata=metadata)\n",
        "\n",
        "\n",
        "\n",
        "########################################################################\n",
        "# Define functions\n",
        "########################################################################\n",
        "du = ufl.TrialFunction(V)                                                         # Incremental displacement\n",
        "v  = ufl.TestFunction(V)                                                          # Test function for u\n",
        "u  = fem.Function(V)                                                              # Displacement from previous iteration\n",
        "u_inc = fem.Function(V)\n",
        "dz = ufl.TrialFunction(Y)                                                         # Incremental phase field\n",
        "y  = ufl.TestFunction(Y)                                                          # Test function\n",
        "z  = fem.Function(Y)                                                              # Phase field from previous iteration\n",
        "z_inc = fem.Function(Y)\n",
        "d = len(u)                                                                        # Dimension\n",
        "B  = fem.Constant(domain, (0.0, 0.0))                                             # Body force per unit volume\n",
        "Tr  = fem.Constant(domain, (0.0,  0.0))                                           # Traction force on the boundary\n"
      ]
    },
    {
      "cell_type": "markdown",
      "metadata": {
        "id": "22l5ySrsXw-W"
      },
      "source": [
        "## Setting the initial conditions"
      ]
    },
    {
      "cell_type": "code",
      "execution_count": null,
      "metadata": {
        "id": "RMohBN5ydjIB"
      },
      "outputs": [],
      "source": [
        "u.x.array[:] = 0.\n",
        "fem.petsc.set_bc(u.vector, bcs)\n",
        "\n",
        "\n",
        "z.x.array[:] = 1.\n",
        "fem.petsc.set_bc(z.vector, bcs_z)\n",
        "\n",
        "\n",
        "u_prev = fem.Function(V)\n",
        "u_prev.x.array[:] = u.x.array\n",
        "z_prev = fem.Function(Y)\n",
        "z_prev.x.array[:] = z.x.array\n",
        "\n",
        "\n",
        "y_dofs_top = fem.locate_dofs_topological(V.sub(1), fdim, top_facets)"
      ]
    },
    {
      "cell_type": "markdown",
      "metadata": {
        "id": "mjLEZNiLX0vd"
      },
      "source": [
        "## Defining a function to do an interpolation for any field for visualization purposes"
      ]
    },
    {
      "cell_type": "code",
      "execution_count": null,
      "metadata": {
        "id": "9CyGsy1pdjwW"
      },
      "outputs": [],
      "source": [
        "def adjust_array_shape(input_array):\n",
        "    if input_array.shape == (2,):                                                 # Check if the shape is (2,)\n",
        "        adjusted_array = np.append(input_array, 0.0)                              # Append 0.0 to the array\n",
        "        return adjusted_array\n",
        "    else:\n",
        "        return input_array\n",
        "bb_tree = geometry.bb_tree(domain, domain.topology.dim)\n",
        "\n",
        "def evaluate_function(u, x):\n",
        "    \"\"\"[summary]\n",
        "        Helps evaluated a function at a point `x` in parallel\n",
        "    Args:\n",
        "        u ([dolfin.Function]): [function to be evaluated]\n",
        "        x ([Union(tuple, list, numpy.ndarray)]): [point at which to evaluate function `u`]\n",
        "\n",
        "    Returns:\n",
        "        [numpy.ndarray]: [function evaluated at point `x`]\n",
        "    \"\"\"\n",
        "\n",
        "\n",
        "    if isinstance(x, np.ndarray):\n",
        "        # If x is already a NumPy array\n",
        "        points0 = x\n",
        "    elif isinstance(x, (tuple, list)):\n",
        "        # If x is a tuple or list, convert it to a NumPy array\n",
        "        points0 = np.array(x)\n",
        "    else:\n",
        "        # Handle the case if x is of an unsupported type\n",
        "        points0 = None\n",
        "\n",
        "    points = adjust_array_shape(points0)\n",
        "\n",
        "    u_value = []\n",
        "\n",
        "    cells = []\n",
        "    # Find cells whose bounding-box collide with the the points\n",
        "    cell_candidates = geometry.compute_collisions_points(bb_tree, points)\n",
        "    # Choose one of the cells that contains the point\n",
        "    colliding_cells = geometry.compute_colliding_cells(domain, cell_candidates, points)\n",
        "\n",
        "    if len(colliding_cells.links(0)) > 0:\n",
        "        u_value = u.eval(points, colliding_cells.links(0)[0])\n",
        "        u_value = domain.comm.gather(u_value, root=0)\n",
        "    return u_value[0]"
      ]
    },
    {
      "cell_type": "markdown",
      "metadata": {
        "id": "D0ZLaF2kX2w1"
      },
      "source": [
        "## Defining stored energy, strain, and stress functions"
      ]
    },
    {
      "cell_type": "code",
      "execution_count": null,
      "metadata": {
        "id": "0WfwaCX4dqMv"
      },
      "outputs": [],
      "source": [
        "# Stored energy, strain and stress functions in linear isotropic elasticity (plane stress)\n",
        "\n",
        "def energy(v):\n",
        "\t  return mu*(ufl.inner(ufl.sym(ufl.grad(v)),ufl.sym(ufl.grad(v))) + ((nu/(1-nu))**2)*(ufl.tr(ufl.sym(ufl.grad(v))))**2 )+ 0.5*(lmbda)*(ufl.tr(ufl.sym(ufl.grad(v)))*(1-2*nu)/(1-nu))**2\n",
        "\n",
        "def epsilon(v):\n",
        "\treturn ufl.sym(ufl.grad(v))\n",
        "\n",
        "def sigma(v):\n",
        "\treturn 2.0*mu*ufl.sym(ufl.grad(v)) + (lmbda)*ufl.tr(ufl.sym(ufl.grad(v)))*(1-2*nu)/(1-nu)*ufl.Identity(len(v))\n",
        "\n",
        "def sigmavm(sig,v):\n",
        "\treturn ufl.sqrt(1/2*(ufl.inner(sig-1/3*ufl.tr(sig)*ufl.Identity(len(v)), sig-1/3*ufl.tr(sig)*ufl.Identity(len(v))) + (1/9)*ufl.tr(sig)**2 ))\n",
        "\n",
        "\n",
        "eta = 0.0\n",
        "# Stored energy density\n",
        "psi1 = (z**2+eta)*(energy(u))\n",
        "psi11 = energy(u)\n",
        "# Total potential energy\n",
        "Pi = psi1*dx\n",
        "# Compute first variation of Pi (directional derivative about u in the direction of v)\n",
        "R = ufl.derivative(Pi, u, v)\n",
        "# Compute Jacobian of R\n",
        "Jac = ufl.derivative(R, u, du)"
      ]
    },
    {
      "cell_type": "markdown",
      "metadata": {
        "id": "67Glt0HiX9O9"
      },
      "source": [
        "## Defining the external force $c_{e}$ in the phase field equation"
      ]
    },
    {
      "cell_type": "code",
      "execution_count": null,
      "metadata": {
        "id": "oQu-y6Sndwew"
      },
      "outputs": [],
      "source": [
        "I1 = (z**2)*ufl.tr(sigma(u))\n",
        "SQJ2 = (z**2)*sigmavm(sigma(u),u)\n",
        "\n",
        "alpha1 = (delta*Gc)/(shs*8*eps) - (2*Whs)/(3*shs)\n",
        "alpha2 = (3**0.5*(3*shs - sts)*delta*Gc)/(shs*sts*8*eps) + (2*Whs)/(3**0.5*shs) - (2*3**0.5*Wts)/(sts)\n",
        "\n",
        "ce= alpha2*SQJ2 + alpha1*I1 - z*(1-ufl.sqrt(I1**2)/I1)*psi11"
      ]
    },
    {
      "cell_type": "markdown",
      "metadata": {
        "id": "FfRMVsNLX-cg"
      },
      "source": [
        "## Weak form of PDE for phase field"
      ]
    },
    {
      "cell_type": "code",
      "execution_count": null,
      "metadata": {
        "id": "3F9_kQLQd0RW"
      },
      "outputs": [],
      "source": [
        "#Balance of configurational forces PDE\n",
        "pen=1000*(3*Gc/8/eps)*ufl.conditional(ufl.lt(delta,1),1, delta)\n",
        "Wv=pen/2*((abs(z)-z)**2 + (abs(1-z) - (1-z))**2 )*dx\n",
        "\n",
        "R_z = y*2*z*(psi11)*dx + y*(ce)*dx + 3*delta*Gc/8*(-y/eps + 2*eps*ufl.inner(ufl.grad(z),ufl.grad(y)))*dx + ufl.derivative(Wv,z,y)\n",
        "\n",
        "# Compute Jacobian of R_z\n",
        "Jac_z = ufl.derivative(R_z, z, dz)"
      ]
    },
    {
      "cell_type": "markdown",
      "metadata": {
        "id": "EZHR9ZeVYFj1"
      },
      "source": [
        "## Defining a class for solving nonlinear PDEs"
      ]
    },
    {
      "cell_type": "code",
      "execution_count": null,
      "metadata": {
        "id": "ZHpgzlrAd2tA"
      },
      "outputs": [],
      "source": [
        "class NonlinearPDEProblem:\n",
        "    \"\"\"Nonlinear problem class for PDEs.\"\"\"\n",
        "\n",
        "    def __init__(self, F, u, bc, J):\n",
        "        self.L = fem.form(F)\n",
        "        self.a = fem.form(J)\n",
        "        self.bc = bc\n",
        "\n",
        "    def form(self, x):\n",
        "        x.ghostUpdate(addv=PETSc.InsertMode.INSERT, mode=PETSc.ScatterMode.FORWARD)\n",
        "\n",
        "    def F(self, x, b):\n",
        "        \"\"\"Assemble residual vector.\"\"\"\n",
        "        with b.localForm() as b_local:\n",
        "            b_local.set(0.0)\n",
        "        fem.petsc.assemble_vector(b, self.L)\n",
        "        fem.petsc.apply_lifting(b, [self.a], bcs=[self.bc], x0=[x], scale=-1.0)\n",
        "        b.ghostUpdate(addv=PETSc.InsertMode.ADD, mode=PETSc.ScatterMode.REVERSE)\n",
        "        fem.petsc.set_bc(b, self.bc, x, -1.0)\n",
        "\n",
        "    def J(self, x, A):\n",
        "        \"\"\"Assemble Jacobian matrix.\"\"\"\n",
        "        A.zeroEntries()\n",
        "        fem.petsc.assemble_matrix(A, self.a, bcs=self.bc)\n",
        "        A.assemble()\n",
        "\n",
        "    def matrix(self):\n",
        "        return fem.petsc.create_matrix(self.a)\n",
        "\n",
        "    def vector(self):\n",
        "        return fem.petsc.create_vector(self.L)"
      ]
    },
    {
      "cell_type": "markdown",
      "metadata": {
        "id": "9xL4X2xWYPFI"
      },
      "source": [
        "## Setting the time step parameters\n"
      ]
    },
    {
      "cell_type": "code",
      "execution_count": null,
      "metadata": {
        "id": "QqduxPLbd5aA"
      },
      "outputs": [],
      "source": [
        "# time-stepping parameters\n",
        "T=1\n",
        "Totalsteps=500\n",
        "startstepsize=1/Totalsteps\n",
        "stepsize=startstepsize\n",
        "t=stepsize\n",
        "step=1\n",
        "rtol=1e-9"
      ]
    },
    {
      "cell_type": "markdown",
      "metadata": {
        "id": "8Bn4DVuzYM5E"
      },
      "source": [
        "## Creating Newton solvers and their customizations"
      ]
    },
    {
      "cell_type": "code",
      "execution_count": null,
      "metadata": {
        "id": "X7dn_c2Td7nO"
      },
      "outputs": [],
      "source": [
        "# Create nonlinear problem\n",
        "problem_u = NonlinearPDEProblem(R, u, bcs, Jac)\n",
        "\n",
        "# Create Newton solver and solve\n",
        "\n",
        "solver = _cpp.nls.petsc.NewtonSolver(MPI.COMM_WORLD)\n",
        "solver.setF(problem_u.F, problem_u.vector())\n",
        "solver.setJ(problem_u.J, problem_u.matrix())\n",
        "solver.set_form(problem_u.form)\n",
        "solver.max_it = 10\n",
        "solver.error_on_nonconvergence = False\n",
        "solver.atol = 1.0e-8\n",
        "solver.rtol = 1.0e-7\n",
        "\n",
        "ksp1 = solver.krylov_solver\n",
        "opts = PETSc.Options()\n",
        "option_prefix = ksp1.getOptionsPrefix()\n",
        "opts[f\"{option_prefix}ksp_type\"] = \"lu\"\n",
        "opts[f\"{option_prefix}pc_type\"] = \"mumps\"\n",
        "\n",
        "# Create nonlinear problem\n",
        "problem_z = NonlinearPDEProblem(R_z, z, bcs_z, Jac_z)\n",
        "\n",
        "# Create Newton solver and solve\n",
        "\n",
        "solver_z = _cpp.nls.petsc.NewtonSolver(MPI.COMM_WORLD)\n",
        "solver_z.setF(problem_z.F, problem_z.vector())\n",
        "solver_z.setJ(problem_z.J, problem_z.matrix())\n",
        "solver_z.set_form(problem_z.form)\n",
        "solver_z.max_it = 10\n",
        "solver_z.error_on_nonconvergence = False\n",
        "solver_z.atol = 1.0e-8\n",
        "solver_z.rtol = 1.0e-7\n",
        "\n",
        "\n",
        "ksp2 = solver_z.krylov_solver\n",
        "opts = PETSc.Options()\n",
        "option_prefix = ksp2.getOptionsPrefix()\n",
        "opts[f\"{option_prefix}ksp_type\"] = \"lu\"\n",
        "opts[f\"{option_prefix}pc_type\"] = \"mumps\""
      ]
    },
    {
      "cell_type": "markdown",
      "metadata": {
        "id": "rp2XGN3bYUcO"
      },
      "source": [
        "## Solving the problem over several time steps via a staggered scheme"
      ]
    },
    {
      "cell_type": "code",
      "execution_count": null,
      "metadata": {
        "id": "G21GWmrod9_x"
      },
      "outputs": [],
      "source": [
        "while t-stepsize < T:\n",
        "\n",
        "    if comm_rank==0:\n",
        "        print('Step= %d' %step, 't= %f' %t, 'Stepsize= %e' %stepsize)\n",
        "\n",
        "    re.t = t\n",
        "    r.interpolate(re.eval)\n",
        "    stag_iter = 1\n",
        "    rnorm_stag = 1\n",
        "    while stag_iter<100 and rnorm_stag > 1e-7:\n",
        "        start_time=time.time()\n",
        "        ##############################################################\n",
        "        # PDE for u\n",
        "        ##############################################################\n",
        "        solver.solve(u.vector)\n",
        "        u.x.scatter_forward()\n",
        "        ##############################################################\n",
        "        # PDE for z\n",
        "        ##############################################################\n",
        "        solver_z.solve(z.vector)\n",
        "        z.x.scatter_forward()\n",
        "        ##############################################################\n",
        "\n",
        "        zmin = domain.comm.allreduce(np.min(z.x.array), op=MPI.MIN)\n",
        "\n",
        "\n",
        "        if comm_rank==0:\n",
        "            print(zmin)\n",
        "\n",
        "        if comm_rank==0:\n",
        "            print(\"--- %s seconds ---\" % (time.time() - start_time))\n",
        "\n",
        "        ###############################################################\n",
        "        #Residual check for stag loop\n",
        "        ###############################################################\n",
        "        b_e = fem.petsc.assemble_vector(fem.form(-R))\n",
        "        fint=b_e.copy()\n",
        "        fem.petsc.set_bc(b_e, bcs)\n",
        "\n",
        "        rnorm_stag=b_e.norm()\n",
        "        stag_iter+=1\n",
        "\n",
        "    ########### Post-processing ##############\n",
        "\n",
        "    u_prev.x.array[:] = u.x.array\n",
        "    z_prev.x.array[:] = z.x.array\n",
        "\n",
        "    # Calculate Reaction and J-Integral\n",
        "\n",
        "    Fx=domain.comm.allreduce(np.sum(b_e[y_dofs_top]), op=MPI.SUM)\n",
        "    z_x = evaluate_function(z, (ac+eps,0.0))\n",
        "\n",
        "    JI = fem.form((psi1-ufl.dot(ufl.dot(sigma(u),n),u.dx(0)))*ds(1)+\n",
        "     (psi1-ufl.dot(ufl.dot(sigma(u),n),u.dx(0)))*ds(2)+\n",
        "      (-ufl.dot(ufl.dot(sigma(u),n),u.dx(0)))*ds(3))\n",
        "\n",
        "    Jintegral = domain.comm.allreduce(fem.assemble_scalar(JI), op=MPI.SUM)\n",
        "\n",
        "    if comm_rank==0:\n",
        "        print(Fx)\n",
        "        print(z_x)\n",
        "        with open('Surfing.txt', 'a') as rfile:\n",
        "            rfile.write(\"%s %s %s %s\\n\" % (str(t), str(zmin), str(z_x), str(Fx)))\n",
        "        with open('Surfing_Jintegral.txt', 'a') as rfile:\n",
        "            rfile.write(\"%s %s\\n\" % (str(t), str(2*Jintegral)))\n",
        "\n",
        "    # time stepping\n",
        "    step+=1\n",
        "    t+=stepsize"
      ]
    },
    {
      "cell_type": "markdown",
      "metadata": {
        "id": "Xq_jWGBbc9-z"
      },
      "source": [
        "## Results\n",
        "\n",
        "Plot of the J-integral as a function of time for graphite.\n",
        "\n",
        "![Gc.jpg](data:image/jpeg;base64,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)"
      ]
    }
  ],
  "metadata": {
    "colab": {
      "provenance": []
    },
    "kernelspec": {
      "display_name": "Python 3",
      "name": "python3"
    },
    "language_info": {
      "name": "python"
    }
  },
  "nbformat": 4,
  "nbformat_minor": 0
}
